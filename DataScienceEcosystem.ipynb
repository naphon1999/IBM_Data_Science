{
 "cells": [
  {
   "cell_type": "markdown",
   "id": "67c4aa2f-bb02-4d20-b134-d004c6d52d64",
   "metadata": {},
   "source": [
    "# Data Science Tools and Ecosystem \n",
    "In this notebook, Data Science Tools and Ecosystem are summarized."
   ]
  },
  {
   "cell_type": "markdown",
   "id": "0011b23d-79d2-42f9-9ee9-6fdd004c0ad1",
   "metadata": {},
   "source": [
    "Some of the popular languages that Data Scientists use are:\n",
    "- Python\n",
    "- R\n",
    "- SQL"
   ]
  },
  {
   "cell_type": "markdown",
   "id": "545abd97-dafc-440e-a554-a69d90b582ad",
   "metadata": {},
   "source": [
    "Some of the commonly used libraries used by Data Scientists include:\n",
    "- Pandas\n",
    "- Numpy\n",
    "- Seaborn"
   ]
  },
  {
   "cell_type": "markdown",
   "id": "63613dc5-5634-46c5-8499-f0741396123d",
   "metadata": {},
   "source": [
    "| Data Science Tools |\n",
    "|--------------------|\n",
    "| Jupyter Notebook   |\n",
    "| RStudio            |\n",
    "| Visual Studio Code |"
   ]
  },
  {
   "cell_type": "markdown",
   "id": "52f749f2-9f11-4429-9a81-d2494267dee2",
   "metadata": {},
   "source": [
    "- Addition: `3 + 5 = 8`\n",
    "- Subtraction: `9 - 4 = 5`\n",
    "- Multiplication: `6 * 7 = 42`\n",
    "- Division: `8 / 2 = 4`"
   ]
  },
  {
   "cell_type": "code",
   "execution_count": 3,
   "id": "8524276e-145b-498f-b394-95a3d9d5b7e1",
   "metadata": {},
   "outputs": [
    {
     "data": {
      "text/plain": [
       "17"
      ]
     },
     "execution_count": 3,
     "metadata": {},
     "output_type": "execute_result"
    }
   ],
   "source": [
    "result = (3 * 4) + 5\n",
    "result"
   ]
  },
  {
   "cell_type": "code",
   "execution_count": 4,
   "id": "eda4defb-5144-494f-beac-69c4f54b8c15",
   "metadata": {},
   "outputs": [
    {
     "data": {
      "text/plain": [
       "3.3333333333333335"
      ]
     },
     "execution_count": 4,
     "metadata": {},
     "output_type": "execute_result"
    }
   ],
   "source": [
    "minutes = 200\n",
    "hours = minutes / 60\n",
    "hours"
   ]
  },
  {
   "cell_type": "markdown",
   "id": "3d0115d3-dc12-4d18-b2ed-e8daee16907f",
   "metadata": {},
   "source": [
    "- Learn about popular programming languages for Data Science\n",
    "- Understand the basic arithmetic operations in Python\n",
    "- Explore various data science tools and their uses\n",
    "- Practice using Jupyter Notebook for data analysis and visualization\n",
    "- Convert units and perform simple calculations programmatically"
   ]
  },
  {
   "cell_type": "markdown",
   "id": "b2df6c4e-8f46-41c2-8e94-0a9f95a04480",
   "metadata": {},
   "source": [
    "## Author\n",
    "I love Python"
   ]
  },
  {
   "cell_type": "code",
   "execution_count": null,
   "id": "c651eeba-2a83-49b5-8a6d-19f44effaeee",
   "metadata": {},
   "outputs": [],
   "source": []
  }
 ],
 "metadata": {
  "kernelspec": {
   "display_name": "Python 3 (ipykernel)",
   "language": "python",
   "name": "python3"
  },
  "language_info": {
   "codemirror_mode": {
    "name": "ipython",
    "version": 3
   },
   "file_extension": ".py",
   "mimetype": "text/x-python",
   "name": "python",
   "nbconvert_exporter": "python",
   "pygments_lexer": "ipython3",
   "version": "3.11.9"
  }
 },
 "nbformat": 4,
 "nbformat_minor": 5
}
